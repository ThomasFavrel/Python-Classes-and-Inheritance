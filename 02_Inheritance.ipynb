{
 "cells": [
  {
   "cell_type": "code",
   "execution_count": 1,
   "id": "93de5006",
   "metadata": {},
   "outputs": [],
   "source": [
    "from random import randrange\n",
    "\n",
    "class Pet():\n",
    "    boredom_decrement = 4\n",
    "    hunger_decrement = 6\n",
    "    boredom_threshold = 5\n",
    "    hunger_threshold = 10\n",
    "    sounds = ['Mrrp']\n",
    "    def __init__(self, name = \"Kitty\", pet_type=\"dog\"):\n",
    "        self.name = name\n",
    "        self.hunger = randrange(self.hunger_threshold)\n",
    "        self.boredom = randrange(self.boredom_threshold)\n",
    "        self.sounds = self.sounds[:]  # copy the class attribute, so that when we make changes to it, we won't affect the other Pets in the class\n",
    "        self.pet_type = pet_type\n",
    "\n",
    "    def clock_tick(self):\n",
    "        self.boredom += 1\n",
    "        self.hunger += 1\n",
    "\n",
    "    def mood(self):\n",
    "        if self.hunger <= self.hunger_threshold and self.boredom <= self.boredom_threshold:\n",
    "            if self.pet_type == \"dog\": # if the pet is a dog, it will express its mood in different ways from a cat or any other type of animal\n",
    "                return \"happy\"\n",
    "            elif self.pet_type == \"cat\":\n",
    "                return \"happy, probably\"\n",
    "            else:\n",
    "                return \"HAPPY\"\n",
    "        elif self.hunger > self.hunger_threshold:\n",
    "            if self.pet_type == \"dog\": # same for hunger -- dogs and cats will express their hunger a little bit differently in this version of the class definition\n",
    "                return \"hungry, arf\"\n",
    "            elif self.pet_type == \"cat\":\n",
    "                return \"hungry, meeeeow\"\n",
    "            else:\n",
    "                return \"hungry\"\n",
    "        else:\n",
    "            return \"bored\"\n",
    "\n",
    "    def __str__(self):\n",
    "        state = \"     I'm \" + self.name + \". \"\n",
    "        state += \" I feel \" + self.mood() + \". \"\n",
    "        return state\n",
    "\n",
    "    def hi(self):\n",
    "        print(self.sounds[randrange(len(self.sounds))])\n",
    "        self.reduce_boredom()\n",
    "\n",
    "    def teach(self, word):\n",
    "        self.sounds.append(word)\n",
    "        self.reduce_boredom()\n",
    "\n",
    "    def feed(self):\n",
    "        self.reduce_hunger()\n",
    "\n",
    "    def reduce_hunger(self):\n",
    "        self.hunger = max(0, self.hunger - self.hunger_decrement)\n",
    "\n",
    "    def reduce_boredom(self):\n",
    "        self.boredom = max(0, self.boredom - self.boredom_decrement)"
   ]
  },
  {
   "cell_type": "markdown",
   "id": "9e6bafd1",
   "metadata": {},
   "source": [
    "### Inheriting Variables and Methods"
   ]
  },
  {
   "cell_type": "code",
   "execution_count": 2,
   "id": "8439ca48",
   "metadata": {},
   "outputs": [],
   "source": [
    "CURRENR_YEAR = 2022\n",
    "\n",
    "class Person:\n",
    "    \n",
    "    def __init__(self, name, year_born):\n",
    "        self.name = name\n",
    "        self.year_born = year_born\n",
    "        \n",
    "    def getAge(self):\n",
    "        return CURRENR_YEAR - self.year_born\n",
    "    \n",
    "    def __str__(self):\n",
    "        return f'{self.name}, {self.getAge()}'"
   ]
  },
  {
   "cell_type": "code",
   "execution_count": 3,
   "id": "17518f4f",
   "metadata": {},
   "outputs": [
    {
     "name": "stdout",
     "output_type": "stream",
     "text": [
      "Alice Smith, 32\n"
     ]
    }
   ],
   "source": [
    "alice = Person(\"Alice Smith\", 1990)\n",
    "print(alice)"
   ]
  },
  {
   "cell_type": "markdown",
   "id": "51489c5d",
   "metadata": {},
   "source": [
    "Want to create a class 'Student'with same attributes than 'Person' plus one attribite"
   ]
  },
  {
   "cell_type": "code",
   "execution_count": 4,
   "id": "b3132795",
   "metadata": {},
   "outputs": [],
   "source": [
    "class Student:\n",
    "    \n",
    "    def __init__(self, name, year_born):\n",
    "        self.name = name\n",
    "        self.year_born = year_born\n",
    "        self.knowledge = 0\n",
    "        \n",
    "    def study(self):\n",
    "        self.knowledge += 1\n",
    "        \n",
    "    def getAge(self):\n",
    "        return CURRENR_YEAR - self.year_born\n",
    "    \n",
    "    def __str__(self):\n",
    "        return f'{self.name}, {self.getAge()}'"
   ]
  },
  {
   "cell_type": "code",
   "execution_count": 7,
   "id": "a2004b29",
   "metadata": {},
   "outputs": [
    {
     "name": "stdout",
     "output_type": "stream",
     "text": [
      "1\n"
     ]
    }
   ],
   "source": [
    "alice = Student(\"Alice Smith\", 1990)\n",
    "alice.study()\n",
    "print(alice.knowledge)"
   ]
  },
  {
   "cell_type": "markdown",
   "id": "3a29ef29",
   "metadata": {},
   "source": [
    "#### with inheritance :"
   ]
  },
  {
   "cell_type": "code",
   "execution_count": 9,
   "id": "c6c3f32a",
   "metadata": {},
   "outputs": [],
   "source": [
    "class Student(Person):\n",
    "    \n",
    "    def __init__(self, name, year_born):\n",
    "        Person.__init__(self, name, year_born) #inheritance\n",
    "        self.knowledge = 0\n",
    "\n",
    "    def study(self):\n",
    "        self.knowledge += 1"
   ]
  },
  {
   "cell_type": "code",
   "execution_count": 11,
   "id": "11438066",
   "metadata": {},
   "outputs": [
    {
     "name": "stdout",
     "output_type": "stream",
     "text": [
      "1\n",
      "32\n"
     ]
    }
   ],
   "source": [
    "alice = Student(\"Alice Smith\", 1990)\n",
    "alice.study()\n",
    "print(alice.knowledge)\n",
    "print(alice.getAge())"
   ]
  },
  {
   "cell_type": "markdown",
   "id": "d3d893e4",
   "metadata": {},
   "source": [
    "### Invoking the Parent Class's Method"
   ]
  },
  {
   "cell_type": "code",
   "execution_count": 12,
   "id": "0a820e95",
   "metadata": {},
   "outputs": [],
   "source": [
    "from random import randrange\n",
    "\n",
    "class Pet():\n",
    "    boredom_decrement = 4\n",
    "    hunger_decrement = 6\n",
    "    boredom_threshold = 5\n",
    "    hunger_threshold = 10\n",
    "    sounds = ['Mrrp']\n",
    "    def __init__(self, name = \"Kitty\", pet_type=\"dog\"):\n",
    "        self.name = name\n",
    "        self.hunger = randrange(self.hunger_threshold)\n",
    "        self.boredom = randrange(self.boredom_threshold)\n",
    "        self.sounds = self.sounds[:]  # copy the class attribute, so that when we make changes to it, we won't affect the other Pets in the class\n",
    "        self.pet_type = pet_type\n",
    "\n",
    "    def clock_tick(self):\n",
    "        self.boredom += 1\n",
    "        self.hunger += 1\n",
    "\n",
    "    def mood(self):\n",
    "        if self.hunger <= self.hunger_threshold and self.boredom <= self.boredom_threshold:\n",
    "            if self.pet_type == \"dog\": # if the pet is a dog, it will express its mood in different ways from a cat or any other type of animal\n",
    "                return \"happy\"\n",
    "            elif self.pet_type == \"cat\":\n",
    "                return \"happy, probably\"\n",
    "            else:\n",
    "                return \"HAPPY\"\n",
    "        elif self.hunger > self.hunger_threshold:\n",
    "            if self.pet_type == \"dog\": # same for hunger -- dogs and cats will express their hunger a little bit differently in this version of the class definition\n",
    "                return \"hungry, arf\"\n",
    "            elif self.pet_type == \"cat\":\n",
    "                return \"hungry, meeeeow\"\n",
    "            else:\n",
    "                return \"hungry\"\n",
    "        else:\n",
    "            return \"bored\"\n",
    "\n",
    "    def __str__(self):\n",
    "        state = \"     I'm \" + self.name + \". \"\n",
    "        state += \" I feel \" + self.mood() + \". \"\n",
    "        return state\n",
    "\n",
    "    def hi(self):\n",
    "        print(self.sounds[randrange(len(self.sounds))])\n",
    "        self.reduce_boredom()\n",
    "\n",
    "    def teach(self, word):\n",
    "        self.sounds.append(word)\n",
    "        self.reduce_boredom()\n",
    "\n",
    "    def feed(self):\n",
    "        self.reduce_hunger()\n",
    "\n",
    "    def reduce_hunger(self):\n",
    "        self.hunger = max(0, self.hunger - self.hunger_decrement)\n",
    "\n",
    "    def reduce_boredom(self):\n",
    "        self.boredom = max(0, self.boredom - self.boredom_decrement)"
   ]
  },
  {
   "cell_type": "code",
   "execution_count": 27,
   "id": "ce3305d4",
   "metadata": {},
   "outputs": [
    {
     "name": "stdout",
     "output_type": "stream",
     "text": [
      "7\n",
      "Arf! Thanks!\n",
      "1\n"
     ]
    }
   ],
   "source": [
    "# the method feed will only return 'arf thanks'\n",
    "class Dog(Pet):\n",
    "    def feed(self):\n",
    "        print('Arf! Thanks!')\n",
    "\n",
    "# feed will return print and reduce hunger\n",
    "class Dog(Pet):\n",
    "    def feed(self):\n",
    "        Pet.feed(self)\n",
    "        print('Arf! Thanks!')\n",
    "        \n",
    "d1 = Dog('Astro')\n",
    "print(d1.hunger)\n",
    "d1.feed()\n",
    "print(d1.hunger)"
   ]
  },
  {
   "cell_type": "code",
   "execution_count": null,
   "id": "8c1b1904",
   "metadata": {},
   "outputs": [],
   "source": []
  }
 ],
 "metadata": {
  "kernelspec": {
   "display_name": "Python 3 (ipykernel)",
   "language": "python",
   "name": "python3"
  },
  "language_info": {
   "codemirror_mode": {
    "name": "ipython",
    "version": 3
   },
   "file_extension": ".py",
   "mimetype": "text/x-python",
   "name": "python",
   "nbconvert_exporter": "python",
   "pygments_lexer": "ipython3",
   "version": "3.8.10"
  }
 },
 "nbformat": 4,
 "nbformat_minor": 5
}
