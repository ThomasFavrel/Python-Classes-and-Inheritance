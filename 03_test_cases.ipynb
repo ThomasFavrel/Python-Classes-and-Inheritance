{
 "cells": [
  {
   "cell_type": "markdown",
   "id": "8c85d16d",
   "metadata": {},
   "source": [
    "### Exercice 1"
   ]
  },
  {
   "cell_type": "markdown",
   "id": "43d54c0f",
   "metadata": {},
   "source": [
    "\n",
    "\n",
    "The class, Pokemon, is provided below and describes a Pokemon and its leveling and evolving characteristics. An instance of the class is one pokemon that you create.\n",
    "\n",
    "Grass_Pokemon is a subclass that inherits from Pokemon but changes some aspects, for instance, the boost values are different.\n",
    "\n",
    "For the subclass Grass_Pokemon, add another method called action that returns the string \"[name of pokemon] knows a lot of different moves!\". Create an instance of this class with the name as \"Belle\". Assign this instance to the variable p1.\n"
   ]
  },
  {
   "cell_type": "code",
   "execution_count": 1,
   "id": "c7c0e04e",
   "metadata": {},
   "outputs": [],
   "source": [
    "class Pokemon(object):\n",
    "    attack = 12\n",
    "    defense = 10\n",
    "    health = 15\n",
    "    p_type = \"Normal\"\n",
    "\n",
    "    def __init__(self, name, level = 5):\n",
    "        self.name = name\n",
    "        self.level = level\n",
    "\n",
    "    def train(self):\n",
    "        self.update()\n",
    "        self.attack_up()\n",
    "        self.defense_up()\n",
    "        self.health_up()\n",
    "        self.level = self.level + 1\n",
    "        if self.level%self.evolve == 0:\n",
    "            return self.level, \"Evolved!\"\n",
    "        else:\n",
    "            return self.level\n",
    "\n",
    "    def attack_up(self):\n",
    "        self.attack = self.attack + self.attack_boost\n",
    "        return self.attack\n",
    "\n",
    "    def defense_up(self):\n",
    "        self.defense = self.defense + self.defense_boost\n",
    "        return self.defense\n",
    "\n",
    "    def health_up(self):\n",
    "        self.health = self.health + self.health_boost\n",
    "        return self.health\n",
    "\n",
    "    def update(self):\n",
    "        self.health_boost = 5\n",
    "        self.attack_boost = 3\n",
    "        self.defense_boost = 2\n",
    "        self.evolve = 10\n",
    "\n",
    "    def __str__(self):\n",
    "        self.update()\n",
    "        return \"Pokemon name: {}, Type: {}, Level: {}\".format(self.name, self.p_type, self.level)"
   ]
  },
  {
   "cell_type": "code",
   "execution_count": 3,
   "id": "a304a20a",
   "metadata": {},
   "outputs": [],
   "source": [
    "class Grass_Pokemon(Pokemon):\n",
    "    attack = 15\n",
    "    defense = 14\n",
    "    health = 12\n",
    "\n",
    "    def update(self):\n",
    "        self.health_boost = 6\n",
    "        self.attack_boost = 2\n",
    "        self.defense_boost = 3\n",
    "        self.evolve = 12\n",
    "\n",
    "    def moves(self):\n",
    "        self.p_moves = [\"razor leaf\", \"synthesis\", \"petal dance\"]\n",
    "\n",
    "    def action(self):\n",
    "        return f'{self.name} knows a lot of different moves!'\n",
    "    "
   ]
  },
  {
   "cell_type": "code",
   "execution_count": 4,
   "id": "05ba1ee5",
   "metadata": {},
   "outputs": [],
   "source": [
    "p1 = Grass_Pokemon('Belle')"
   ]
  },
  {
   "cell_type": "code",
   "execution_count": 6,
   "id": "ba6d9001",
   "metadata": {},
   "outputs": [
    {
     "name": "stdout",
     "output_type": "stream",
     "text": [
      "Belle knows a lot of different moves!\n"
     ]
    }
   ],
   "source": [
    "print(p1.action())"
   ]
  },
  {
   "cell_type": "markdown",
   "id": "69a66622",
   "metadata": {},
   "source": [
    "### Exercie 2"
   ]
  },
  {
   "cell_type": "markdown",
   "id": "a4758b97",
   "metadata": {},
   "source": [
    "\n",
    "\n",
    "Modify the Grass_Pokemon subclass so that the attack strength for Grass_Pokemon instances does not change until they reach level 10. At level 10 and up, their attack strength should increase by the attack_boost amount when they are trained.\n",
    "\n",
    "To test, create an instance of the class with the name as \"Bulby\". Assign the instance to the variable p2. Create another instance of the Grass_Pokemon class with the name set to \"Pika\" and assign that instance to the variable p3. Then, use Grass_Pokemon methods to train the p3 Grass_Pokemon instance until it reaches at least level 10.\n"
   ]
  },
  {
   "cell_type": "code",
   "execution_count": 16,
   "id": "6a9bf46d",
   "metadata": {},
   "outputs": [],
   "source": [
    "class Grass_Pokemon(Pokemon):\n",
    "    attack = 15\n",
    "    defense = 14\n",
    "    health = 12\n",
    "\n",
    "    def update(self):\n",
    "        self.health_boost = 6\n",
    "        self.attack_boost = 2\n",
    "        self.defense_boost = 3\n",
    "        self.evolve = 12\n",
    "\n",
    "    def moves(self):\n",
    "        self.p_moves = [\"razor leaf\", \"synthesis\", \"petal dance\"]\n",
    "    \n",
    "    \n",
    "    def attack_up(self):\n",
    "        if self.level >= 10:\n",
    "            self.attack += self.attack_boost"
   ]
  },
  {
   "cell_type": "code",
   "execution_count": 30,
   "id": "2e3b4230",
   "metadata": {},
   "outputs": [
    {
     "name": "stdout",
     "output_type": "stream",
     "text": [
      "15\n"
     ]
    }
   ],
   "source": [
    "p2 = Grass_Pokemon('Bulby')\n",
    "p3 = Grass_Pokemon('Pika', level=8)\n",
    "print(p3.attack)"
   ]
  },
  {
   "cell_type": "code",
   "execution_count": 26,
   "id": "87a8aa3f",
   "metadata": {},
   "outputs": [
    {
     "name": "stdout",
     "output_type": "stream",
     "text": [
      "10 15\n"
     ]
    }
   ],
   "source": [
    "p3.train()\n",
    "print(p3.level, p3.attack)"
   ]
  },
  {
   "cell_type": "code",
   "execution_count": 34,
   "id": "e1c44744",
   "metadata": {},
   "outputs": [],
   "source": [
    "if p3.level <= 10:\n",
    "    p3.train()"
   ]
  },
  {
   "cell_type": "code",
   "execution_count": 35,
   "id": "e495eef2",
   "metadata": {},
   "outputs": [
    {
     "data": {
      "text/plain": [
       "10"
      ]
     },
     "execution_count": 35,
     "metadata": {},
     "output_type": "execute_result"
    }
   ],
   "source": [
    "p3.level"
   ]
  },
  {
   "cell_type": "code",
   "execution_count": 39,
   "id": "257eedc8",
   "metadata": {},
   "outputs": [],
   "source": [
    "class Grass_Pokemon(Pokemon):\n",
    "    attack = 15\n",
    "    defense = 14\n",
    "    health = 12\n",
    "    p_type = \"Grass\"\n",
    "            \n",
    "    def update(self):\n",
    "        self.health_boost = 6\n",
    "        self.attack_boost = 2\n",
    "        self.defense_boost = 3\n",
    "        self.evolve = 12\n",
    "\n",
    "    def moves(self):\n",
    "        self.p_moves = [\"razor leaf\", \"synthesis\", \"petal dance\"]\n",
    "    \n",
    "    def attack_up(self):\n",
    "        if self.level >= 10:\n",
    "            self.attack = self.attack + self.attack_boost\n",
    "\n",
    "p2 = Grass_Pokemon('Bulby')\n",
    "p3 = Grass_Pokemon('Pika')\n",
    "\n",
    "while p3.level <= 10:\n",
    "    p3.train()"
   ]
  },
  {
   "cell_type": "code",
   "execution_count": 40,
   "id": "138fe10a",
   "metadata": {},
   "outputs": [
    {
     "data": {
      "text/plain": [
       "11"
      ]
     },
     "execution_count": 40,
     "metadata": {},
     "output_type": "execute_result"
    }
   ],
   "source": [
    "p3.level"
   ]
  },
  {
   "cell_type": "markdown",
   "id": "46c9c219",
   "metadata": {},
   "source": [
    "### assert"
   ]
  },
  {
   "cell_type": "code",
   "execution_count": 53,
   "id": "d4bd432b",
   "metadata": {},
   "outputs": [
    {
     "name": "stdout",
     "output_type": "stream",
     "text": [
      "Point (5, 2)\n"
     ]
    }
   ],
   "source": [
    "class Point:\n",
    "    \n",
    "    def __init__(self, init_x, init_y):\n",
    "        self.x = init_x\n",
    "        self.y = init_y\n",
    "        \n",
    "    def __str__(self):\n",
    "        return f\"Point ({self.x}, {self.y})\"\n",
    "        \n",
    "a = Point(5, 2)\n",
    "print(a)\n",
    "assert a.x == 5"
   ]
  },
  {
   "cell_type": "code",
   "execution_count": 57,
   "id": "c65bd773",
   "metadata": {},
   "outputs": [
    {
     "ename": "AssertionError",
     "evalue": "",
     "output_type": "error",
     "traceback": [
      "\u001b[0;31m---------------------------------------------------------------------------\u001b[0m",
      "\u001b[0;31mAssertionError\u001b[0m                            Traceback (most recent call last)",
      "Input \u001b[0;32mIn [57]\u001b[0m, in \u001b[0;36m<module>\u001b[0;34m\u001b[0m\n\u001b[0;32m----> 1\u001b[0m \u001b[38;5;28;01massert\u001b[39;00m a\u001b[38;5;241m.\u001b[39mx \u001b[38;5;241m==\u001b[39m \u001b[38;5;241m6\u001b[39m\n",
      "\u001b[0;31mAssertionError\u001b[0m: "
     ]
    }
   ],
   "source": [
    "assert a.x == 6"
   ]
  },
  {
   "cell_type": "markdown",
   "id": "2beba524",
   "metadata": {},
   "source": [
    "### Exeptions"
   ]
  },
  {
   "cell_type": "markdown",
   "id": "e8a0027f",
   "metadata": {},
   "source": [
    "`IndexError`"
   ]
  },
  {
   "cell_type": "code",
   "execution_count": 58,
   "id": "617e8730",
   "metadata": {},
   "outputs": [
    {
     "ename": "IndexError",
     "evalue": "list index out of range",
     "output_type": "error",
     "traceback": [
      "\u001b[0;31m---------------------------------------------------------------------------\u001b[0m",
      "\u001b[0;31mIndexError\u001b[0m                                Traceback (most recent call last)",
      "Input \u001b[0;32mIn [58]\u001b[0m, in \u001b[0;36m<module>\u001b[0;34m\u001b[0m\n\u001b[1;32m      1\u001b[0m items \u001b[38;5;241m=\u001b[39m [\u001b[38;5;124m'\u001b[39m\u001b[38;5;124ma\u001b[39m\u001b[38;5;124m'\u001b[39m, \u001b[38;5;124m'\u001b[39m\u001b[38;5;124mb\u001b[39m\u001b[38;5;124m'\u001b[39m]\n\u001b[0;32m----> 2\u001b[0m third \u001b[38;5;241m=\u001b[39m \u001b[43mitems\u001b[49m\u001b[43m[\u001b[49m\u001b[38;5;241;43m2\u001b[39;49m\u001b[43m]\u001b[49m\n",
      "\u001b[0;31mIndexError\u001b[0m: list index out of range"
     ]
    }
   ],
   "source": [
    "items = ['a', 'b']\n",
    "third = items[2]"
   ]
  },
  {
   "cell_type": "markdown",
   "id": "3a1f29ff",
   "metadata": {},
   "source": [
    "`ZeroDivisionError`"
   ]
  },
  {
   "cell_type": "code",
   "execution_count": 59,
   "id": "077a51cc",
   "metadata": {},
   "outputs": [
    {
     "ename": "ZeroDivisionError",
     "evalue": "division by zero",
     "output_type": "error",
     "traceback": [
      "\u001b[0;31m---------------------------------------------------------------------------\u001b[0m",
      "\u001b[0;31mZeroDivisionError\u001b[0m                         Traceback (most recent call last)",
      "Input \u001b[0;32mIn [59]\u001b[0m, in \u001b[0;36m<module>\u001b[0;34m\u001b[0m\n\u001b[1;32m      1\u001b[0m x \u001b[38;5;241m=\u001b[39m \u001b[38;5;241m5\u001b[39m\n\u001b[0;32m----> 2\u001b[0m y \u001b[38;5;241m=\u001b[39m \u001b[43mx\u001b[49m\u001b[38;5;241;43m/\u001b[39;49m\u001b[38;5;241;43m0\u001b[39;49m\n",
      "\u001b[0;31mZeroDivisionError\u001b[0m: division by zero"
     ]
    }
   ],
   "source": [
    "x = 5\n",
    "y = x/0"
   ]
  },
  {
   "cell_type": "markdown",
   "id": "a96f22fc",
   "metadata": {},
   "source": [
    "`try` and `except`"
   ]
  },
  {
   "cell_type": "code",
   "execution_count": 60,
   "id": "12244ae4",
   "metadata": {},
   "outputs": [
    {
     "name": "stdout",
     "output_type": "stream",
     "text": [
      "got an error\n",
      "continuing\n"
     ]
    }
   ],
   "source": [
    "try:\n",
    "    items = ['a', 'b']\n",
    "    third = items[2]\n",
    "    print(\"This won't print\")\n",
    "except Exception:\n",
    "    print(\"got an error\")\n",
    "\n",
    "print(\"continuing\")"
   ]
  },
  {
   "cell_type": "markdown",
   "id": "6d05f8f9",
   "metadata": {},
   "source": [
    "stop because devide by 0  \n",
    "to fix : if statement"
   ]
  },
  {
   "cell_type": "code",
   "execution_count": 61,
   "id": "ca401789",
   "metadata": {},
   "outputs": [
    {
     "name": "stdout",
     "output_type": "stream",
     "text": [
      "error 1\n",
      "continuing\n"
     ]
    },
    {
     "ename": "ZeroDivisionError",
     "evalue": "division by zero",
     "output_type": "error",
     "traceback": [
      "\u001b[0;31m---------------------------------------------------------------------------\u001b[0m",
      "\u001b[0;31mZeroDivisionError\u001b[0m                         Traceback (most recent call last)",
      "Input \u001b[0;32mIn [61]\u001b[0m, in \u001b[0;36m<module>\u001b[0;34m\u001b[0m\n\u001b[1;32m     10\u001b[0m \u001b[38;5;28;01mtry\u001b[39;00m:\n\u001b[1;32m     11\u001b[0m     x \u001b[38;5;241m=\u001b[39m \u001b[38;5;241m5\u001b[39m\n\u001b[0;32m---> 12\u001b[0m     y \u001b[38;5;241m=\u001b[39m \u001b[43mx\u001b[49m\u001b[38;5;241;43m/\u001b[39;49m\u001b[38;5;241;43m0\u001b[39;49m\n\u001b[1;32m     13\u001b[0m     \u001b[38;5;28mprint\u001b[39m(\u001b[38;5;124m\"\u001b[39m\u001b[38;5;124mThis won\u001b[39m\u001b[38;5;124m'\u001b[39m\u001b[38;5;124mt print, either\u001b[39m\u001b[38;5;124m\"\u001b[39m)\n\u001b[1;32m     14\u001b[0m \u001b[38;5;28;01mexcept\u001b[39;00m \u001b[38;5;167;01mIndexError\u001b[39;00m:\n",
      "\u001b[0;31mZeroDivisionError\u001b[0m: division by zero"
     ]
    }
   ],
   "source": [
    "try:\n",
    "    items = ['a', 'b']\n",
    "    third = items[2]\n",
    "    print(\"This won't print\")\n",
    "except IndexError:\n",
    "    print(\"error 1\")\n",
    "\n",
    "print(\"continuing\")\n",
    "\n",
    "try:\n",
    "    x = 5\n",
    "    y = x/0\n",
    "    print(\"This won't print, either\")\n",
    "except IndexError:\n",
    "    print(\"error 2\")\n",
    "\n",
    "\n",
    "print(\"continuing again\")"
   ]
  },
  {
   "cell_type": "code",
   "execution_count": 63,
   "id": "8bee628a",
   "metadata": {},
   "outputs": [
    {
     "name": "stdout",
     "output_type": "stream",
     "text": [
      "got an error\n",
      "list index out of range\n",
      "continuing\n"
     ]
    }
   ],
   "source": [
    "try:\n",
    "    items = ['a', 'b']\n",
    "    third = items[2]\n",
    "    print(\"This won't print\")\n",
    "except Exception as e:\n",
    "    print(\"got an error\")\n",
    "    print(e)\n",
    "\n",
    "print(\"continuing\")"
   ]
  },
  {
   "cell_type": "markdown",
   "id": "7099a26d",
   "metadata": {},
   "source": [
    "### Exercice 1"
   ]
  },
  {
   "cell_type": "markdown",
   "id": "57eb0f4f",
   "metadata": {},
   "source": [
    "Below, we have provided a list of tuples that consist of student names, final exam scores, and whether or not they will pass the class. For some students, the tuple does not have a third element because it is unknown whether or not they will pass. Currently, the for loop does not work. Add a try/except clause so the code runs without an error - if there is no third element in the tuple, no changes should be made to the dictionary."
   ]
  },
  {
   "cell_type": "code",
   "execution_count": 68,
   "id": "f1e24f88",
   "metadata": {},
   "outputs": [],
   "source": [
    "students = [('Timmy', 95, 'Will pass'), ('Martha', 70), ('Betty', 82, 'Will pass'), ('Stewart', 50, 'Will not pass'), ('Ashley', 68), ('Natalie', 99, 'Will pass'), ('Archie', 71), ('Carl', 45, 'Will not pass')]\n",
    "\n",
    "passing = {'Will pass': 0, 'Will not pass': 0}\n",
    "for tup in students:\n",
    "    try:\n",
    "        if tup[2] == 'Will pass':\n",
    "            passing['Will pass'] += 1\n",
    "    except:\n",
    "        pass\n",
    "    try:\n",
    "        if tup[2] == 'Will not pass':\n",
    "            passing['Will not pass'] += 1\n",
    "    except:\n",
    "        pass"
   ]
  },
  {
   "cell_type": "code",
   "execution_count": 69,
   "id": "caf56e34",
   "metadata": {},
   "outputs": [
    {
     "name": "stdout",
     "output_type": "stream",
     "text": [
      "{'Will pass': 3, 'Will not pass': 2}\n"
     ]
    }
   ],
   "source": [
    "print(passing)"
   ]
  },
  {
   "cell_type": "markdown",
   "id": "1db06683",
   "metadata": {},
   "source": [
    "### Exercice 2"
   ]
  },
  {
   "cell_type": "markdown",
   "id": "c6bcf233",
   "metadata": {},
   "source": [
    "Below, we have provided code that does not run. Add a try/except clause so the code runs without errors. If an element is not able to undergo the addition operation, the string ‘Error’ should be appended to plus_four."
   ]
  },
  {
   "cell_type": "code",
   "execution_count": 70,
   "id": "fee66f3e",
   "metadata": {},
   "outputs": [],
   "source": [
    "nums = [5, 9, '4', 3, 2, 1, 6, 5, '7', 4, 3, 2, 6, 7, 8, '0', 3, 4, 0, 6, 5, '3', 5, 6, 7, 8, '3', '1', 5, 6, 7, 9, 3, 2, 5, 6, '9', 2, 3, 4, 5, 1]\n",
    "\n",
    "plus_four = []\n",
    "\n",
    "for num in nums:\n",
    "    try:\n",
    "        plus_four.append(num+4)\n",
    "    except:\n",
    "        plus_four.append('Error')"
   ]
  },
  {
   "cell_type": "code",
   "execution_count": 72,
   "id": "c1c4884e",
   "metadata": {},
   "outputs": [
    {
     "name": "stdout",
     "output_type": "stream",
     "text": [
      "[9, 13, 'Error', 7, 6, 5, 10, 9, 'Error', 8, 7, 6, 10, 11, 12, 'Error', 7, 8, 4, 10, 9, 'Error', 9, 10, 11, 12, 'Error', 'Error', 9, 10, 11, 13, 7, 6, 9, 10, 'Error', 6, 7, 8, 9, 5]\n"
     ]
    }
   ],
   "source": [
    "print(plus_four)"
   ]
  },
  {
   "cell_type": "markdown",
   "id": "6bb6d437",
   "metadata": {},
   "source": [
    "BaseException  \n",
    " +-- SystemExit  \n",
    " +-- KeyboardInterrupt  \n",
    " +-- GeneratorExit  \n",
    " +-- Exception  \n",
    "      +-- StopIteration  \n",
    "      +-- StopAsyncIteration  \n",
    "      +-- ArithmeticError  \n",
    "      |    +-- FloatingPointError  \n",
    "      |    +-- OverflowError  \n",
    "      |    +-- ZeroDivisionError  \n",
    "      +-- AssertionError  \n",
    "      +-- AttributeError  \n",
    "      +-- BufferError  \n",
    "      +-- EOFError  \n",
    "      +-- ImportError  \n",
    "      +-- LookupError  \n",
    "      |    +-- IndexError  \n",
    "      |    +-- KeyError  \n",
    "      +-- MemoryError  \n",
    "      +-- NameError  \n",
    "      |    +-- UnboundLocalError  \n",
    "      +-- OSError  \n",
    "      |    +-- BlockingIOError  \n",
    "      |    +-- ChildProcessError  \n",
    "      |    +-- ConnectionError  \n",
    "      |    |    +-- BrokenPipeError  \n",
    "      |    |    +-- ConnectionAbortedError  \n",
    "      |    |    +-- ConnectionRefusedError  \n",
    "      |    |    +-- ConnectionResetError  \n",
    "      |    +-- FileExistsError  \n",
    "      |    +-- FileNotFoundError  \n",
    "      |    +-- InterruptedError  \n",
    "      |    +-- IsADirectoryError  \n",
    "      |    +-- NotADirectoryError  \n",
    "      |    +-- PermissionError  \n",
    "      |    +-- ProcessLookupError  \n",
    "      |    +-- TimeoutError  \n",
    "      +-- ReferenceError  \n",
    "      +-- RuntimeError  \n",
    "      |    +-- NotImplementedError  \n",
    "      |    +-- RecursionError  \n",
    "      +-- SyntaxError  \n",
    "      |    +-- IndentationError  \n",
    "      |         +-- TabError  \n",
    "      +-- SystemError  \n",
    "      +-- TypeError  \n",
    "      +-- ValueError  \n",
    "      |    +-- UnicodeError  \n",
    "      |         +-- UnicodeDecodeError  \n",
    "      |         +-- UnicodeEncodeError  \n",
    "      |         +-- UnicodeTranslateError  \n",
    "      +-- Warning  \n",
    "           +-- DeprecationWarning  \n",
    "           +-- PendingDeprecationWarning  \n",
    "           +-- RuntimeWarning  \n",
    "           +-- SyntaxWarning  \n",
    "           +-- UserWarning  \n",
    "           +-- FutureWarning  \n",
    "           +-- ImportWarning  \n",
    "           +-- UnicodeWarning  \n",
    "           +-- BytesWarning  \n",
    "           +-- ResourceWarning  "
   ]
  },
  {
   "cell_type": "code",
   "execution_count": null,
   "id": "9022c0fa",
   "metadata": {},
   "outputs": [],
   "source": []
  }
 ],
 "metadata": {
  "kernelspec": {
   "display_name": "Python 3 (ipykernel)",
   "language": "python",
   "name": "python3"
  },
  "language_info": {
   "codemirror_mode": {
    "name": "ipython",
    "version": 3
   },
   "file_extension": ".py",
   "mimetype": "text/x-python",
   "name": "python",
   "nbconvert_exporter": "python",
   "pygments_lexer": "ipython3",
   "version": "3.8.10"
  }
 },
 "nbformat": 4,
 "nbformat_minor": 5
}
