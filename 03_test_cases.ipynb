{
 "cells": [
  {
   "cell_type": "markdown",
   "id": "bdd99f18",
   "metadata": {},
   "source": [
    "### Exercice 1"
   ]
  },
  {
   "cell_type": "markdown",
   "id": "28cde1a3",
   "metadata": {},
   "source": [
    "\n",
    "\n",
    "The class, Pokemon, is provided below and describes a Pokemon and its leveling and evolving characteristics. An instance of the class is one pokemon that you create.\n",
    "\n",
    "Grass_Pokemon is a subclass that inherits from Pokemon but changes some aspects, for instance, the boost values are different.\n",
    "\n",
    "For the subclass Grass_Pokemon, add another method called action that returns the string \"[name of pokemon] knows a lot of different moves!\". Create an instance of this class with the name as \"Belle\". Assign this instance to the variable p1.\n"
   ]
  },
  {
   "cell_type": "code",
   "execution_count": 1,
   "id": "ec52831f",
   "metadata": {},
   "outputs": [],
   "source": [
    "class Pokemon(object):\n",
    "    attack = 12\n",
    "    defense = 10\n",
    "    health = 15\n",
    "    p_type = \"Normal\"\n",
    "\n",
    "    def __init__(self, name, level = 5):\n",
    "        self.name = name\n",
    "        self.level = level\n",
    "\n",
    "    def train(self):\n",
    "        self.update()\n",
    "        self.attack_up()\n",
    "        self.defense_up()\n",
    "        self.health_up()\n",
    "        self.level = self.level + 1\n",
    "        if self.level%self.evolve == 0:\n",
    "            return self.level, \"Evolved!\"\n",
    "        else:\n",
    "            return self.level\n",
    "\n",
    "    def attack_up(self):\n",
    "        self.attack = self.attack + self.attack_boost\n",
    "        return self.attack\n",
    "\n",
    "    def defense_up(self):\n",
    "        self.defense = self.defense + self.defense_boost\n",
    "        return self.defense\n",
    "\n",
    "    def health_up(self):\n",
    "        self.health = self.health + self.health_boost\n",
    "        return self.health\n",
    "\n",
    "    def update(self):\n",
    "        self.health_boost = 5\n",
    "        self.attack_boost = 3\n",
    "        self.defense_boost = 2\n",
    "        self.evolve = 10\n",
    "\n",
    "    def __str__(self):\n",
    "        self.update()\n",
    "        return \"Pokemon name: {}, Type: {}, Level: {}\".format(self.name, self.p_type, self.level)"
   ]
  },
  {
   "cell_type": "code",
   "execution_count": 3,
   "id": "711add1b",
   "metadata": {},
   "outputs": [],
   "source": [
    "class Grass_Pokemon(Pokemon):\n",
    "    attack = 15\n",
    "    defense = 14\n",
    "    health = 12\n",
    "\n",
    "    def update(self):\n",
    "        self.health_boost = 6\n",
    "        self.attack_boost = 2\n",
    "        self.defense_boost = 3\n",
    "        self.evolve = 12\n",
    "\n",
    "    def moves(self):\n",
    "        self.p_moves = [\"razor leaf\", \"synthesis\", \"petal dance\"]\n",
    "\n",
    "    def action(self):\n",
    "        return f'{self.name} knows a lot of different moves!'\n",
    "    "
   ]
  },
  {
   "cell_type": "code",
   "execution_count": 4,
   "id": "9382a473",
   "metadata": {},
   "outputs": [],
   "source": [
    "p1 = Grass_Pokemon('Belle')"
   ]
  },
  {
   "cell_type": "code",
   "execution_count": 6,
   "id": "ca29f595",
   "metadata": {},
   "outputs": [
    {
     "name": "stdout",
     "output_type": "stream",
     "text": [
      "Belle knows a lot of different moves!\n"
     ]
    }
   ],
   "source": [
    "print(p1.action())"
   ]
  },
  {
   "cell_type": "markdown",
   "id": "5595c857",
   "metadata": {},
   "source": [
    "### Exercie 2"
   ]
  },
  {
   "cell_type": "markdown",
   "id": "135b49b9",
   "metadata": {},
   "source": [
    "\n",
    "\n",
    "Modify the Grass_Pokemon subclass so that the attack strength for Grass_Pokemon instances does not change until they reach level 10. At level 10 and up, their attack strength should increase by the attack_boost amount when they are trained.\n",
    "\n",
    "To test, create an instance of the class with the name as \"Bulby\". Assign the instance to the variable p2. Create another instance of the Grass_Pokemon class with the name set to \"Pika\" and assign that instance to the variable p3. Then, use Grass_Pokemon methods to train the p3 Grass_Pokemon instance until it reaches at least level 10.\n"
   ]
  },
  {
   "cell_type": "code",
   "execution_count": 16,
   "id": "5f46e5bb",
   "metadata": {},
   "outputs": [],
   "source": [
    "class Grass_Pokemon(Pokemon):\n",
    "    attack = 15\n",
    "    defense = 14\n",
    "    health = 12\n",
    "\n",
    "    def update(self):\n",
    "        self.health_boost = 6\n",
    "        self.attack_boost = 2\n",
    "        self.defense_boost = 3\n",
    "        self.evolve = 12\n",
    "\n",
    "    def moves(self):\n",
    "        self.p_moves = [\"razor leaf\", \"synthesis\", \"petal dance\"]\n",
    "    \n",
    "    \n",
    "    def attack_up(self):\n",
    "        if self.level >= 10:\n",
    "            self.attack += self.attack_boost"
   ]
  },
  {
   "cell_type": "code",
   "execution_count": 30,
   "id": "c4074ce8",
   "metadata": {},
   "outputs": [
    {
     "name": "stdout",
     "output_type": "stream",
     "text": [
      "15\n"
     ]
    }
   ],
   "source": [
    "p2 = Grass_Pokemon('Bulby')\n",
    "p3 = Grass_Pokemon('Pika', level=8)\n",
    "print(p3.attack)"
   ]
  },
  {
   "cell_type": "code",
   "execution_count": 26,
   "id": "b0476f8b",
   "metadata": {},
   "outputs": [
    {
     "name": "stdout",
     "output_type": "stream",
     "text": [
      "10 15\n"
     ]
    }
   ],
   "source": [
    "p3.train()\n",
    "print(p3.level, p3.attack)"
   ]
  },
  {
   "cell_type": "code",
   "execution_count": 34,
   "id": "92378515",
   "metadata": {},
   "outputs": [],
   "source": [
    "if p3.level <= 10:\n",
    "    p3.train()"
   ]
  },
  {
   "cell_type": "code",
   "execution_count": 35,
   "id": "35d2a85c",
   "metadata": {},
   "outputs": [
    {
     "data": {
      "text/plain": [
       "10"
      ]
     },
     "execution_count": 35,
     "metadata": {},
     "output_type": "execute_result"
    }
   ],
   "source": [
    "p3.level"
   ]
  },
  {
   "cell_type": "code",
   "execution_count": 39,
   "id": "33a22b0c",
   "metadata": {},
   "outputs": [],
   "source": [
    "class Grass_Pokemon(Pokemon):\n",
    "    attack = 15\n",
    "    defense = 14\n",
    "    health = 12\n",
    "    p_type = \"Grass\"\n",
    "            \n",
    "    def update(self):\n",
    "        self.health_boost = 6\n",
    "        self.attack_boost = 2\n",
    "        self.defense_boost = 3\n",
    "        self.evolve = 12\n",
    "\n",
    "    def moves(self):\n",
    "        self.p_moves = [\"razor leaf\", \"synthesis\", \"petal dance\"]\n",
    "    \n",
    "    def attack_up(self):\n",
    "        if self.level >= 10:\n",
    "            self.attack = self.attack + self.attack_boost\n",
    "\n",
    "p2 = Grass_Pokemon('Bulby')\n",
    "p3 = Grass_Pokemon('Pika')\n",
    "\n",
    "while p3.level <= 10:\n",
    "    p3.train()"
   ]
  },
  {
   "cell_type": "code",
   "execution_count": 40,
   "id": "8076104c",
   "metadata": {},
   "outputs": [
    {
     "data": {
      "text/plain": [
       "11"
      ]
     },
     "execution_count": 40,
     "metadata": {},
     "output_type": "execute_result"
    }
   ],
   "source": [
    "p3.level"
   ]
  },
  {
   "cell_type": "markdown",
   "id": "b5dbdd66",
   "metadata": {},
   "source": [
    "### assert"
   ]
  },
  {
   "cell_type": "code",
   "execution_count": null,
   "id": "85a6943a",
   "metadata": {},
   "outputs": [],
   "source": []
  }
 ],
 "metadata": {
  "kernelspec": {
   "display_name": "Python 3 (ipykernel)",
   "language": "python",
   "name": "python3"
  },
  "language_info": {
   "codemirror_mode": {
    "name": "ipython",
    "version": 3
   },
   "file_extension": ".py",
   "mimetype": "text/x-python",
   "name": "python",
   "nbconvert_exporter": "python",
   "pygments_lexer": "ipython3",
   "version": "3.8.10"
  }
 },
 "nbformat": 4,
 "nbformat_minor": 5
}
