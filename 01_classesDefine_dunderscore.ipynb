{
 "cells": [
  {
   "cell_type": "code",
   "execution_count": 1,
   "id": "1d5da846",
   "metadata": {},
   "outputs": [],
   "source": [
    "# let's create a point a(x, y)"
   ]
  },
  {
   "cell_type": "code",
   "execution_count": 2,
   "id": "d50c11de",
   "metadata": {},
   "outputs": [],
   "source": [
    "class Point():\n",
    "    pass"
   ]
  },
  {
   "cell_type": "code",
   "execution_count": 6,
   "id": "3a21307d",
   "metadata": {},
   "outputs": [
    {
     "name": "stdout",
     "output_type": "stream",
     "text": [
      "<__main__.Point object at 0x7fc5b8202bb0>\n",
      "<__main__.Point object at 0x7fc5b81c5820>\n",
      "False\n"
     ]
    }
   ],
   "source": [
    "a = Point()\n",
    "b = Point()\n",
    "print(a)\n",
    "print(b)\n",
    "print(a == b)"
   ]
  },
  {
   "cell_type": "code",
   "execution_count": 8,
   "id": "a20aa238",
   "metadata": {},
   "outputs": [
    {
     "name": "stdout",
     "output_type": "stream",
     "text": [
      "5\n",
      "10\n"
     ]
    }
   ],
   "source": [
    "# create instance variable called x\n",
    "a.x = 5\n",
    "b.x = 10\n",
    "print(a.x)\n",
    "print(b.x)"
   ]
  },
  {
   "cell_type": "code",
   "execution_count": 10,
   "id": "4f664147",
   "metadata": {},
   "outputs": [
    {
     "data": {
      "text/plain": [
       "5"
      ]
     },
     "execution_count": 10,
     "metadata": {},
     "output_type": "execute_result"
    }
   ],
   "source": [
    "# create a methode to get x\n",
    "class Point():\n",
    "    def getX(self):\n",
    "        return self.x\n",
    "    \n",
    "a = Point()\n",
    "b = Point()\n",
    "\n",
    "a.x = 5\n",
    "b.x = 10\n",
    "\n",
    "a.getX()"
   ]
  },
  {
   "cell_type": "code",
   "execution_count": 16,
   "id": "a8e427b6",
   "metadata": {},
   "outputs": [
    {
     "name": "stdout",
     "output_type": "stream",
     "text": [
      "0\n",
      "False\n"
     ]
    }
   ],
   "source": [
    "# initializer method - CONSTRUCTOR\n",
    "class Point:\n",
    "    \"\"\" Point class for representing and manipulating x,y coordinates. \"\"\"\n",
    "\n",
    "    def __init__(self):\n",
    "\n",
    "        self.x = 0\n",
    "        self.y = 0\n",
    "        \n",
    "a = Point()\n",
    "b = Point()\n",
    "\n",
    "print(a.x)\n",
    "print(a is b)"
   ]
  },
  {
   "cell_type": "code",
   "execution_count": 21,
   "id": "7f2b85e4",
   "metadata": {},
   "outputs": [
    {
     "name": "stdout",
     "output_type": "stream",
     "text": [
      "5 10\n"
     ]
    }
   ],
   "source": [
    "class Point:\n",
    "    \"\"\" Point class for representing and manipulating x,y coordinates. \"\"\"\n",
    "\n",
    "    def __init__(self, x, y):\n",
    "\n",
    "        self.x = x\n",
    "        self.y = y\n",
    "        \n",
    "a = Point(5, 10)\n",
    "b = Point(1, 2)\n",
    "\n",
    "print(a.x, a.y)"
   ]
  },
  {
   "cell_type": "code",
   "execution_count": 24,
   "id": "4d9d95eb",
   "metadata": {},
   "outputs": [
    {
     "data": {
      "text/plain": [
       "11.180339887498949"
      ]
     },
     "execution_count": 24,
     "metadata": {},
     "output_type": "execute_result"
    }
   ],
   "source": [
    "class Point:\n",
    "    \"\"\" Point class for representing and manipulating x,y coordinates. \"\"\"\n",
    "\n",
    "    def __init__(self, x, y):\n",
    "        self.x = x\n",
    "        self.y = y\n",
    "        \n",
    "    def getX(self):\n",
    "        return self.x\n",
    "    \n",
    "    def getY(self):\n",
    "        return self.y\n",
    "    \n",
    "    def distanceFromOrigin(self):\n",
    "        return ((self.x ** 2) + (self.y ** 2)) ** 0.5\n",
    "    \n",
    "a = Point(5, 10)\n",
    "a.distanceFromOrigin()"
   ]
  },
  {
   "cell_type": "markdown",
   "id": "3b212cf9",
   "metadata": {},
   "source": [
    "### Exercices"
   ]
  },
  {
   "cell_type": "code",
   "execution_count": 38,
   "id": "6d5f3497",
   "metadata": {},
   "outputs": [
    {
     "name": "stdout",
     "output_type": "stream",
     "text": [
      "8\n"
     ]
    }
   ],
   "source": [
    "# exercice\n",
    "class Animal:\n",
    "    def __init__(self, arms, legs):\n",
    "        self.arms = arms\n",
    "        self.legs = legs\n",
    "        \n",
    "    def limbs(self):\n",
    "        return self.arms + self.legs\n",
    "    \n",
    "spider = Animal(4, 4)\n",
    "spidlimbs = spider.limbs()\n",
    "print(spidlimbs)"
   ]
  },
  {
   "cell_type": "code",
   "execution_count": 36,
   "id": "44f49df3",
   "metadata": {},
   "outputs": [],
   "source": [
    "cityNames = ['Lyon', 'Paris', 'Marseille']\n",
    "populations = [680_250, 117_070, 1_683]\n",
    "states = ['Rhone', 'IDF', 'BDR']\n",
    "\n",
    "city_tuples = zip(cityNames, populations, states)"
   ]
  },
  {
   "cell_type": "code",
   "execution_count": 37,
   "id": "198a312f",
   "metadata": {},
   "outputs": [
    {
     "data": {
      "text/plain": [
       "[('Lyon', 680250, 'Rhone'),\n",
       " ('Paris', 117070, 'IDF'),\n",
       " ('Marseille', 1683, 'BDR')]"
      ]
     },
     "execution_count": 37,
     "metadata": {},
     "output_type": "execute_result"
    }
   ],
   "source": [
    "list(city_tuples)"
   ]
  },
  {
   "cell_type": "code",
   "execution_count": 39,
   "id": "ede0e9c2",
   "metadata": {},
   "outputs": [],
   "source": [
    "class City:\n",
    "    def __init__(self, name, population, state):\n",
    "        self.name = name\n",
    "        self.population = population\n",
    "        self.state = state\n",
    "    \n",
    "    def __str__(self):\n",
    "        return f'{self.name}, {self.state}, (pop : {self.population})'\n",
    "    "
   ]
  },
  {
   "cell_type": "code",
   "execution_count": 45,
   "id": "2145c9fd",
   "metadata": {},
   "outputs": [
    {
     "data": {
      "text/plain": [
       "[__main__.City, __main__.City, __main__.City]"
      ]
     },
     "execution_count": 45,
     "metadata": {},
     "output_type": "execute_result"
    }
   ],
   "source": [
    "city_tuples = zip(cityNames, populations, states)\n",
    "\n",
    "cities = []\n",
    "for city_tup in city_tuples:\n",
    "    name, pop, state = city_tup\n",
    "    city = City(name, pop, state)\n",
    "    cities.append(City)\n",
    "\n",
    "cities"
   ]
  },
  {
   "cell_type": "code",
   "execution_count": 50,
   "id": "76c05a77",
   "metadata": {},
   "outputs": [],
   "source": [
    "#other way\n",
    "city_tuples = zip(cityNames, populations, states)\n",
    "cities = [City(n, p, s) for n, p, s in city_tuples]"
   ]
  },
  {
   "cell_type": "code",
   "execution_count": 52,
   "id": "e60f3f46",
   "metadata": {},
   "outputs": [
    {
     "data": {
      "text/plain": [
       "[<__main__.City at 0x7fc5a1574d60>,\n",
       " <__main__.City at 0x7fc5a15740a0>,\n",
       " <__main__.City at 0x7fc5a1574af0>]"
      ]
     },
     "execution_count": 52,
     "metadata": {},
     "output_type": "execute_result"
    }
   ],
   "source": [
    "#another cool way\n",
    "city_tuples = zip(cityNames, populations, states)\n",
    "cities = [City(*t) for t in city_tuples] #t for tuple\n",
    "cities"
   ]
  },
  {
   "cell_type": "markdown",
   "id": "daf720b6",
   "metadata": {},
   "source": [
    "### Point distance"
   ]
  },
  {
   "cell_type": "code",
   "execution_count": 53,
   "id": "a7a36dff",
   "metadata": {},
   "outputs": [],
   "source": [
    "import math\n",
    "\n",
    "class Point:\n",
    "    \"\"\" Point class for representing and manipulating x,y coordinates. \"\"\"\n",
    "\n",
    "    def __init__(self, initX, initY):\n",
    "\n",
    "        self.x = initX\n",
    "        self.y = initY\n",
    "\n",
    "    def getX(self):\n",
    "        return self.x\n",
    "\n",
    "    def getY(self):\n",
    "        return self.y\n",
    "\n",
    "    def distanceFromOrigin(self):\n",
    "        return ((self.x ** 2) + (self.y ** 2)) ** 0.5\n",
    "\n",
    "    def distance(self, point2):\n",
    "        xdiff = point2.getX()-self.getX()\n",
    "        ydiff = point2.getY()-self.getY()\n",
    "\n",
    "        dist = math.sqrt(xdiff**2 + ydiff**2)\n",
    "        return dist"
   ]
  },
  {
   "cell_type": "code",
   "execution_count": 54,
   "id": "cb12557e",
   "metadata": {},
   "outputs": [
    {
     "name": "stdout",
     "output_type": "stream",
     "text": [
      "5.0\n"
     ]
    }
   ],
   "source": [
    "p = Point(4,3)\n",
    "q = Point(0,0)\n",
    "print(p.distance(q))"
   ]
  },
  {
   "cell_type": "markdown",
   "id": "014b18ad",
   "metadata": {},
   "source": [
    "### Converting object to string\n",
    "methode `__str__`"
   ]
  },
  {
   "cell_type": "code",
   "execution_count": 64,
   "id": "09014033",
   "metadata": {},
   "outputs": [],
   "source": [
    "class Point:\n",
    "    \"\"\" Point class for representing and manipulating x,y coordinates. \"\"\"\n",
    "\n",
    "    def __init__(self, initX, initY):\n",
    "\n",
    "        self.x = initX\n",
    "        self.y = initY\n",
    "\n",
    "    def getX(self):\n",
    "        return self.x\n",
    "\n",
    "    def getY(self):\n",
    "        return self.y\n",
    "\n",
    "    def distanceFromOrigin(self):\n",
    "        return ((self.x ** 2) + (self.y ** 2)) ** 0.5\n",
    "\n",
    "    def distance(self, point2):\n",
    "        xdiff = point2.getX()-self.getX()\n",
    "        ydiff = point2.getY()-self.getY()\n",
    "\n",
    "        dist = math.sqrt(xdiff**2 + ydiff**2)\n",
    "        return dist\n",
    "    \n",
    "    def __str__(self):\n",
    "        return f\"Point ({self.x}, {self.y})\""
   ]
  },
  {
   "cell_type": "code",
   "execution_count": 65,
   "id": "915bf2f7",
   "metadata": {},
   "outputs": [
    {
     "name": "stdout",
     "output_type": "stream",
     "text": [
      "Point (4, 3)\n"
     ]
    }
   ],
   "source": [
    "p = Point(4,3)\n",
    "print(p)"
   ]
  },
  {
   "cell_type": "markdown",
   "id": "e88508fa",
   "metadata": {},
   "source": [
    "### Exercice\n",
    "Check Your Understanding\n",
    "\n",
    "    Create a class called Cereal that accepts three inputs: 2 strings and 1 integer, and assigns them to 3 instance variables in the constructor: name, brand, and fiber. When an instance of Cereal is printed, the user should see the following: “[name] cereal is produced by [brand] and has [fiber integer] grams of fiber in every serving!” To the variable name c1, assign an instance of Cereal whose name is \"Corn Flakes\", brand is \"Kellogg's\", and fiber is 2. To the variable name c2, assign an instance of Cereal whose name is \"Honey Nut Cheerios\", brand is \"General Mills\", and fiber is 3. Practice printing both!\n"
   ]
  },
  {
   "cell_type": "code",
   "execution_count": 81,
   "id": "a05695ff",
   "metadata": {},
   "outputs": [],
   "source": [
    "class Cereal:\n",
    "    \n",
    "    def __init__(self, name: str, brand: str, fiber: int):\n",
    "        self.name = name\n",
    "        self.brand = brand\n",
    "        self.fiber = fiber\n",
    "        \n",
    "    def __str__(self):\n",
    "        return f\"{self.name} cereal is produced by {self.brand} \\\n",
    "and has {self.fiber} grams of fiber in every serving!\""
   ]
  },
  {
   "cell_type": "code",
   "execution_count": 88,
   "id": "33450017",
   "metadata": {},
   "outputs": [
    {
     "name": "stdout",
     "output_type": "stream",
     "text": [
      "Corn Flakes cereal is produced by Kellogg's and has 2 grams of fiber in every serving!\n",
      "Honey Nut Cheerios cereal is produced by General Mills and has 3 grams of fiber in every serving!\n"
     ]
    }
   ],
   "source": [
    "c1 = Cereal(\"Corn Flakes\", \"Kellogg's\", 2)\n",
    "c2 = Cereal(\"Honey Nut Cheerios\", \"General Mills\", 3)\n",
    "print(c1)\n",
    "print(c2)"
   ]
  },
  {
   "cell_type": "code",
   "execution_count": null,
   "id": "686e9a1b",
   "metadata": {},
   "outputs": [],
   "source": []
  }
 ],
 "metadata": {
  "kernelspec": {
   "display_name": "Python 3 (ipykernel)",
   "language": "python",
   "name": "python3"
  },
  "language_info": {
   "codemirror_mode": {
    "name": "ipython",
    "version": 3
   },
   "file_extension": ".py",
   "mimetype": "text/x-python",
   "name": "python",
   "nbconvert_exporter": "python",
   "pygments_lexer": "ipython3",
   "version": "3.8.10"
  }
 },
 "nbformat": 4,
 "nbformat_minor": 5
}
