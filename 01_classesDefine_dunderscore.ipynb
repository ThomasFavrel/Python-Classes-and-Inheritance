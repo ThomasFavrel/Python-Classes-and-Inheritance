{
 "cells": [
  {
   "cell_type": "code",
   "execution_count": 1,
   "id": "7c2a8df0",
   "metadata": {},
   "outputs": [],
   "source": [
    "# let's create a point a(x, y)"
   ]
  },
  {
   "cell_type": "code",
   "execution_count": 2,
   "id": "000063a8",
   "metadata": {},
   "outputs": [],
   "source": [
    "class Point():\n",
    "    pass"
   ]
  },
  {
   "cell_type": "code",
   "execution_count": 6,
   "id": "2e897c68",
   "metadata": {},
   "outputs": [
    {
     "name": "stdout",
     "output_type": "stream",
     "text": [
      "<__main__.Point object at 0x7fc5b8202bb0>\n",
      "<__main__.Point object at 0x7fc5b81c5820>\n",
      "False\n"
     ]
    }
   ],
   "source": [
    "a = Point()\n",
    "b = Point()\n",
    "print(a)\n",
    "print(b)\n",
    "print(a == b)"
   ]
  },
  {
   "cell_type": "code",
   "execution_count": 8,
   "id": "4784bb40",
   "metadata": {},
   "outputs": [
    {
     "name": "stdout",
     "output_type": "stream",
     "text": [
      "5\n",
      "10\n"
     ]
    }
   ],
   "source": [
    "# create instance variable called x\n",
    "a.x = 5\n",
    "b.x = 10\n",
    "print(a.x)\n",
    "print(b.x)"
   ]
  },
  {
   "cell_type": "code",
   "execution_count": 10,
   "id": "c3f738f6",
   "metadata": {},
   "outputs": [
    {
     "data": {
      "text/plain": [
       "5"
      ]
     },
     "execution_count": 10,
     "metadata": {},
     "output_type": "execute_result"
    }
   ],
   "source": [
    "# create a methode to get x\n",
    "class Point():\n",
    "    def getX(self):\n",
    "        return self.x\n",
    "    \n",
    "a = Point()\n",
    "b = Point()\n",
    "\n",
    "a.x = 5\n",
    "b.x = 10\n",
    "\n",
    "a.getX()"
   ]
  },
  {
   "cell_type": "code",
   "execution_count": 16,
   "id": "29eb485f",
   "metadata": {},
   "outputs": [
    {
     "name": "stdout",
     "output_type": "stream",
     "text": [
      "0\n",
      "False\n"
     ]
    }
   ],
   "source": [
    "# initializer method - CONSTRUCTOR\n",
    "class Point:\n",
    "    \"\"\" Point class for representing and manipulating x,y coordinates. \"\"\"\n",
    "\n",
    "    def __init__(self):\n",
    "\n",
    "        self.x = 0\n",
    "        self.y = 0\n",
    "        \n",
    "a = Point()\n",
    "b = Point()\n",
    "\n",
    "print(a.x)\n",
    "print(a is b)"
   ]
  },
  {
   "cell_type": "code",
   "execution_count": 21,
   "id": "09d04972",
   "metadata": {},
   "outputs": [
    {
     "name": "stdout",
     "output_type": "stream",
     "text": [
      "5 10\n"
     ]
    }
   ],
   "source": [
    "class Point:\n",
    "    \"\"\" Point class for representing and manipulating x,y coordinates. \"\"\"\n",
    "\n",
    "    def __init__(self, x, y):\n",
    "\n",
    "        self.x = x\n",
    "        self.y = y\n",
    "        \n",
    "a = Point(5, 10)\n",
    "b = Point(1, 2)\n",
    "\n",
    "print(a.x, a.y)"
   ]
  },
  {
   "cell_type": "code",
   "execution_count": 24,
   "id": "13302826",
   "metadata": {},
   "outputs": [
    {
     "data": {
      "text/plain": [
       "11.180339887498949"
      ]
     },
     "execution_count": 24,
     "metadata": {},
     "output_type": "execute_result"
    }
   ],
   "source": [
    "class Point:\n",
    "    \"\"\" Point class for representing and manipulating x,y coordinates. \"\"\"\n",
    "\n",
    "    def __init__(self, x, y):\n",
    "        self.x = x\n",
    "        self.y = y\n",
    "        \n",
    "    def getX(self):\n",
    "        return self.x\n",
    "    \n",
    "    def getY(self):\n",
    "        return self.y\n",
    "    \n",
    "    def distanceFromOrigin(self):\n",
    "        return ((self.x ** 2) + (self.y ** 2)) ** 0.5\n",
    "    \n",
    "a = Point(5, 10)\n",
    "a.distanceFromOrigin()"
   ]
  },
  {
   "cell_type": "markdown",
   "id": "47628fb2",
   "metadata": {},
   "source": [
    "### Exercices"
   ]
  },
  {
   "cell_type": "code",
   "execution_count": 38,
   "id": "554d3038",
   "metadata": {},
   "outputs": [
    {
     "name": "stdout",
     "output_type": "stream",
     "text": [
      "8\n"
     ]
    }
   ],
   "source": [
    "# exercice\n",
    "class Animal:\n",
    "    def __init__(self, arms, legs):\n",
    "        self.arms = arms\n",
    "        self.legs = legs\n",
    "        \n",
    "    def limbs(self):\n",
    "        return self.arms + self.legs\n",
    "    \n",
    "spider = Animal(4, 4)\n",
    "spidlimbs = spider.limbs()\n",
    "print(spidlimbs)"
   ]
  },
  {
   "cell_type": "code",
   "execution_count": 36,
   "id": "7c29e81c",
   "metadata": {},
   "outputs": [],
   "source": [
    "cityNames = ['Lyon', 'Paris', 'Marseille']\n",
    "populations = [680_250, 117_070, 1_683]\n",
    "states = ['Rhone', 'IDF', 'BDR']\n",
    "\n",
    "city_tuples = zip(cityNames, populations, states)"
   ]
  },
  {
   "cell_type": "code",
   "execution_count": 37,
   "id": "9285a008",
   "metadata": {},
   "outputs": [
    {
     "data": {
      "text/plain": [
       "[('Lyon', 680250, 'Rhone'),\n",
       " ('Paris', 117070, 'IDF'),\n",
       " ('Marseille', 1683, 'BDR')]"
      ]
     },
     "execution_count": 37,
     "metadata": {},
     "output_type": "execute_result"
    }
   ],
   "source": [
    "list(city_tuples)"
   ]
  },
  {
   "cell_type": "code",
   "execution_count": 39,
   "id": "108dac59",
   "metadata": {},
   "outputs": [],
   "source": [
    "class City:\n",
    "    def __init__(self, name, population, state):\n",
    "        self.name = name\n",
    "        self.population = population\n",
    "        self.state = state\n",
    "    \n",
    "    def __str__(self):\n",
    "        return f'{self.name}, {self.state}, (pop : {self.population})'\n",
    "    "
   ]
  },
  {
   "cell_type": "code",
   "execution_count": 45,
   "id": "1960dbaf",
   "metadata": {},
   "outputs": [
    {
     "data": {
      "text/plain": [
       "[__main__.City, __main__.City, __main__.City]"
      ]
     },
     "execution_count": 45,
     "metadata": {},
     "output_type": "execute_result"
    }
   ],
   "source": [
    "city_tuples = zip(cityNames, populations, states)\n",
    "\n",
    "cities = []\n",
    "for city_tup in city_tuples:\n",
    "    name, pop, state = city_tup\n",
    "    city = City(name, pop, state)\n",
    "    cities.append(City)\n",
    "\n",
    "cities"
   ]
  },
  {
   "cell_type": "code",
   "execution_count": 50,
   "id": "f98362db",
   "metadata": {},
   "outputs": [],
   "source": [
    "#other way\n",
    "city_tuples = zip(cityNames, populations, states)\n",
    "cities = [City(n, p, s) for n, p, s in city_tuples]"
   ]
  },
  {
   "cell_type": "code",
   "execution_count": 52,
   "id": "e6bbe001",
   "metadata": {},
   "outputs": [
    {
     "data": {
      "text/plain": [
       "[<__main__.City at 0x7fc5a1574d60>,\n",
       " <__main__.City at 0x7fc5a15740a0>,\n",
       " <__main__.City at 0x7fc5a1574af0>]"
      ]
     },
     "execution_count": 52,
     "metadata": {},
     "output_type": "execute_result"
    }
   ],
   "source": [
    "#another cool way\n",
    "city_tuples = zip(cityNames, populations, states)\n",
    "cities = [City(*t) for t in city_tuples] #t for tuple\n",
    "cities"
   ]
  },
  {
   "cell_type": "markdown",
   "id": "47c8ab9c",
   "metadata": {},
   "source": [
    "### Point distance"
   ]
  },
  {
   "cell_type": "code",
   "execution_count": 53,
   "id": "adf171fd",
   "metadata": {},
   "outputs": [],
   "source": [
    "import math\n",
    "\n",
    "class Point:\n",
    "    \"\"\" Point class for representing and manipulating x,y coordinates. \"\"\"\n",
    "\n",
    "    def __init__(self, initX, initY):\n",
    "\n",
    "        self.x = initX\n",
    "        self.y = initY\n",
    "\n",
    "    def getX(self):\n",
    "        return self.x\n",
    "\n",
    "    def getY(self):\n",
    "        return self.y\n",
    "\n",
    "    def distanceFromOrigin(self):\n",
    "        return ((self.x ** 2) + (self.y ** 2)) ** 0.5\n",
    "\n",
    "    def distance(self, point2):\n",
    "        xdiff = point2.getX()-self.getX()\n",
    "        ydiff = point2.getY()-self.getY()\n",
    "\n",
    "        dist = math.sqrt(xdiff**2 + ydiff**2)\n",
    "        return dist"
   ]
  },
  {
   "cell_type": "code",
   "execution_count": 54,
   "id": "82888496",
   "metadata": {},
   "outputs": [
    {
     "name": "stdout",
     "output_type": "stream",
     "text": [
      "5.0\n"
     ]
    }
   ],
   "source": [
    "p = Point(4,3)\n",
    "q = Point(0,0)\n",
    "print(p.distance(q))"
   ]
  },
  {
   "cell_type": "markdown",
   "id": "f0481f3b",
   "metadata": {},
   "source": [
    "### Converting object to string\n",
    "methode `__str__`"
   ]
  },
  {
   "cell_type": "code",
   "execution_count": 64,
   "id": "aeaad39a",
   "metadata": {},
   "outputs": [],
   "source": [
    "class Point:\n",
    "    \"\"\" Point class for representing and manipulating x,y coordinates. \"\"\"\n",
    "\n",
    "    def __init__(self, initX, initY):\n",
    "\n",
    "        self.x = initX\n",
    "        self.y = initY\n",
    "\n",
    "    def getX(self):\n",
    "        return self.x\n",
    "\n",
    "    def getY(self):\n",
    "        return self.y\n",
    "\n",
    "    def distanceFromOrigin(self):\n",
    "        return ((self.x ** 2) + (self.y ** 2)) ** 0.5\n",
    "\n",
    "    def distance(self, point2):\n",
    "        xdiff = point2.getX()-self.getX()\n",
    "        ydiff = point2.getY()-self.getY()\n",
    "\n",
    "        dist = math.sqrt(xdiff**2 + ydiff**2)\n",
    "        return dist\n",
    "    \n",
    "    def __str__(self):\n",
    "        return f\"Point ({self.x}, {self.y})\""
   ]
  },
  {
   "cell_type": "code",
   "execution_count": 65,
   "id": "f0245fc3",
   "metadata": {},
   "outputs": [
    {
     "name": "stdout",
     "output_type": "stream",
     "text": [
      "Point (4, 3)\n"
     ]
    }
   ],
   "source": [
    "p = Point(4,3)\n",
    "print(p)"
   ]
  },
  {
   "cell_type": "markdown",
   "id": "8b7f2f97",
   "metadata": {},
   "source": [
    "### Exercice\n",
    "Check Your Understanding\n",
    "\n",
    "    Create a class called Cereal that accepts three inputs: 2 strings and 1 integer, and assigns them to 3 instance variables in the constructor: name, brand, and fiber. When an instance of Cereal is printed, the user should see the following: “[name] cereal is produced by [brand] and has [fiber integer] grams of fiber in every serving!” To the variable name c1, assign an instance of Cereal whose name is \"Corn Flakes\", brand is \"Kellogg's\", and fiber is 2. To the variable name c2, assign an instance of Cereal whose name is \"Honey Nut Cheerios\", brand is \"General Mills\", and fiber is 3. Practice printing both!\n"
   ]
  },
  {
   "cell_type": "code",
   "execution_count": 81,
   "id": "e6b8f1bd",
   "metadata": {},
   "outputs": [],
   "source": [
    "class Cereal:\n",
    "    \n",
    "    def __init__(self, name: str, brand: str, fiber: int):\n",
    "        self.name = name\n",
    "        self.brand = brand\n",
    "        self.fiber = fiber\n",
    "        \n",
    "    def __str__(self):\n",
    "        return f\"{self.name} cereal is produced by {self.brand} \\\n",
    "and has {self.fiber} grams of fiber in every serving!\""
   ]
  },
  {
   "cell_type": "code",
   "execution_count": 88,
   "id": "3932aae1",
   "metadata": {},
   "outputs": [
    {
     "name": "stdout",
     "output_type": "stream",
     "text": [
      "Corn Flakes cereal is produced by Kellogg's and has 2 grams of fiber in every serving!\n",
      "Honey Nut Cheerios cereal is produced by General Mills and has 3 grams of fiber in every serving!\n"
     ]
    }
   ],
   "source": [
    "c1 = Cereal(\"Corn Flakes\", \"Kellogg's\", 2)\n",
    "c2 = Cereal(\"Honey Nut Cheerios\", \"General Mills\", 3)\n",
    "print(c1)\n",
    "print(c2)"
   ]
  },
  {
   "cell_type": "markdown",
   "id": "ce4f1cb7",
   "metadata": {},
   "source": [
    "### Special (dunderscore) Methods"
   ]
  },
  {
   "cell_type": "code",
   "execution_count": 5,
   "id": "76a0a7b4",
   "metadata": {},
   "outputs": [],
   "source": [
    "class Point:\n",
    "    \"\"\" Point class for representing and manipulating \n",
    "    x,y coordinates. \"\"\"\n",
    "    \n",
    "    def __init__(self, initX, initY):\n",
    "        self.x = initX\n",
    "        self.y = initY\n",
    "        \n",
    "    def __str__(self):\n",
    "        return f\"Point ({self.x}, {self.y})\"\n",
    "    \n",
    "    def __add__(self, otherPoint):\n",
    "        return Point(self.x + otherPoint.x,\n",
    "                     self.y + otherPoint.y)\n",
    "    \n",
    "    def __sub__(self, otherPoint):\n",
    "        return Point(self.x - otherPoint.x,\n",
    "                     self.y - otherPoint.y)"
   ]
  },
  {
   "cell_type": "code",
   "execution_count": 6,
   "id": "94ea854c",
   "metadata": {},
   "outputs": [
    {
     "name": "stdout",
     "output_type": "stream",
     "text": [
      "Point (10, 30)\n",
      "Point (-20, -10)\n"
     ]
    }
   ],
   "source": [
    "a = Point(-5, 10)\n",
    "b = Point(15, 20)\n",
    "\n",
    "print(a + b)\n",
    "print(a - b)"
   ]
  },
  {
   "cell_type": "markdown",
   "id": "a761a4d2",
   "metadata": {},
   "source": [
    "### Instances as Return Values\n",
    "return a new Point that is halway between two points"
   ]
  },
  {
   "cell_type": "code",
   "execution_count": 7,
   "id": "4a973a84",
   "metadata": {},
   "outputs": [],
   "source": [
    "class Point:\n",
    "    \"\"\" Point class for representing and manipulating\n",
    "    x,y coordinates. \"\"\"\n",
    "\n",
    "    def __init__(self, initX, initY):\n",
    "\n",
    "        self.x = initX\n",
    "        self.y = initY\n",
    "\n",
    "    def getX(self):\n",
    "        return self.x\n",
    "\n",
    "    def getY(self):\n",
    "        return self.y\n",
    "\n",
    "    def distanceFromOrigin(self):\n",
    "        return ((self.x ** 2) + (self.y ** 2)) ** 0.5\n",
    "\n",
    "    def distance(self, point2):\n",
    "        xdiff = point2.getX()-self.getX()\n",
    "        ydiff = point2.getY()-self.getY()\n",
    "\n",
    "        dist = math.sqrt(xdiff**2 + ydiff**2)\n",
    "        return dist\n",
    "    \n",
    "    # return a new Point that is halway between two points\n",
    "    def halfway(self, otherPoint):\n",
    "        midX = (self.x + otherPoint.x) / 2\n",
    "        midY = (self.y + otherPoint.y) / 2\n",
    "        return Point(midX, midY)\n",
    "    \n",
    "    def __str__(self):\n",
    "        return f\"Point ({self.x}, {self.y})\""
   ]
  },
  {
   "cell_type": "code",
   "execution_count": 9,
   "id": "4bcdc1b7",
   "metadata": {},
   "outputs": [
    {
     "name": "stdout",
     "output_type": "stream",
     "text": [
      "Point (5.0, 15.0)\n",
      "15.811388300841896\n"
     ]
    }
   ],
   "source": [
    "a = Point(-5, 10)\n",
    "b = Point(15, 20)\n",
    "\n",
    "mid = a.halfway(b)\n",
    "print(mid)\n",
    "print(mid.distanceFromOrigin())"
   ]
  },
  {
   "cell_type": "markdown",
   "id": "d1913110",
   "metadata": {},
   "source": [
    "### Sorting Lists of Instances"
   ]
  },
  {
   "cell_type": "code",
   "execution_count": 30,
   "id": "7c9220d9",
   "metadata": {},
   "outputs": [
    {
     "name": "stdout",
     "output_type": "stream",
     "text": [
      "Poire\n",
      "Pomme\n",
      "Orange\n",
      "\n",
      "methode 2 :\n",
      "Poire\n",
      "Pomme\n",
      "Orange\n",
      "\n",
      "methode 3 :\n",
      "Poire\n",
      "Pomme\n",
      "Orange\n"
     ]
    }
   ],
   "source": [
    "class Fruit():\n",
    "    def __init__(self, name, price):\n",
    "        self.name = name\n",
    "        self.price = price\n",
    "        \n",
    "    def sort_priority(self):\n",
    "        return self.price\n",
    "    \n",
    "        \n",
    "L = [\n",
    "    Fruit(\"Pomme\", 10),\n",
    "    Fruit(\"Poire\", 5),\n",
    "    Fruit(\"Orange\", 12)    \n",
    "]\n",
    "\n",
    "for f in sorted(L, key=Fruit.sort_priority):\n",
    "    print(f.name)\n",
    "    \n",
    "print('\\n\\\n",
    "methode 2 :')\n",
    "\n",
    "for f in sorted(L, key=lambda x: x.sort_priority()):\n",
    "    print(f.name)\n",
    "    \n",
    "print('\\n\\\n",
    "methode 3 :')\n",
    "\n",
    "for f in sorted(L, key=lambda x: x.price):\n",
    "    print(f.name)"
   ]
  },
  {
   "cell_type": "markdown",
   "id": "0a74c260",
   "metadata": {},
   "source": [
    "### Class Variables and Instance Variables"
   ]
  },
  {
   "cell_type": "code",
   "execution_count": 31,
   "id": "4f3aa73f",
   "metadata": {},
   "outputs": [],
   "source": [
    "class Point:\n",
    "    \"\"\" Point class for representing and manipulating\n",
    "    x,y coordinates. \"\"\"\n",
    "    \n",
    "    printed_rep = '*' # Class variable\n",
    "\n",
    "    def __init__(self, initX, initY):\n",
    "\n",
    "        self.x = initX\n",
    "        self.y = initY\n",
    "        \n",
    "    "
   ]
  },
  {
   "cell_type": "code",
   "execution_count": null,
   "id": "56b32b28",
   "metadata": {},
   "outputs": [],
   "source": []
  },
  {
   "cell_type": "code",
   "execution_count": null,
   "id": "246e53a8",
   "metadata": {},
   "outputs": [],
   "source": []
  }
 ],
 "metadata": {
  "kernelspec": {
   "display_name": "Python 3 (ipykernel)",
   "language": "python",
   "name": "python3"
  },
  "language_info": {
   "codemirror_mode": {
    "name": "ipython",
    "version": 3
   },
   "file_extension": ".py",
   "mimetype": "text/x-python",
   "name": "python",
   "nbconvert_exporter": "python",
   "pygments_lexer": "ipython3",
   "version": "3.8.10"
  }
 },
 "nbformat": 4,
 "nbformat_minor": 5
}
